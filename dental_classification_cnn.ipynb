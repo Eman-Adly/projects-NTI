{
  "nbformat": 4,
  "nbformat_minor": 0,
  "metadata": {
    "colab": {
      "provenance": [],
      "include_colab_link": true
    },
    "kernelspec": {
      "name": "python3",
      "display_name": "Python 3"
    },
    "language_info": {
      "name": "python"
    }
  },
  "cells": [
    {
      "cell_type": "markdown",
      "metadata": {
        "id": "view-in-github",
        "colab_type": "text"
      },
      "source": [
        "<a href=\"https://colab.research.google.com/github/Eman-Adly/projects-NTI/blob/main/dental_classification_cnn.ipynb\" target=\"_parent\"><img src=\"https://colab.research.google.com/assets/colab-badge.svg\" alt=\"Open In Colab\"/></a>"
      ]
    },
    {
      "cell_type": "markdown",
      "source": [
        "# **Dental Image Classification Model**"
      ],
      "metadata": {
        "id": "Y8dVQCMSW-wz"
      }
    },
    {
      "cell_type": "code",
      "execution_count": 1,
      "metadata": {
        "colab": {
          "base_uri": "https://localhost:8080/"
        },
        "id": "M0cKSUuan2U5",
        "outputId": "b428faaf-0c6c-4bcf-9f89-d78b23316629"
      },
      "outputs": [
        {
          "output_type": "stream",
          "name": "stdout",
          "text": [
            "Mounted at /content/drive\n"
          ]
        }
      ],
      "source": [
        "from google.colab import drive\n",
        "drive.mount('/content/drive')"
      ]
    },
    {
      "cell_type": "code",
      "source": [
        "# 📌 Step 1: Import Necessary Libraries\n",
        "import os\n",
        "import numpy as np\n",
        "import tensorflow as tf\n",
        "from sklearn.model_selection import train_test_split\n",
        "from tensorflow.keras.preprocessing.image import ImageDataGenerator\n",
        "from tensorflow.keras.applications import MobileNetV2\n",
        "from tensorflow.keras.layers import Dense, Dropout,Flatten, GlobalAveragePooling2D\n",
        "from tensorflow.keras.models import Model\n",
        "from sklearn.utils.class_weight import compute_class_weight\n",
        "from sklearn.metrics import classification_report"
      ],
      "metadata": {
        "id": "WiFaZZrz77Za"
      },
      "execution_count": 2,
      "outputs": []
    },
    {
      "cell_type": "markdown",
      "source": [
        "## **Load Images and Labels**"
      ],
      "metadata": {
        "id": "KgdIFq3VW2dC"
      }
    },
    {
      "cell_type": "code",
      "source": [
        "# Function to load and resize images\n",
        "def load_images_from_directory(directory, img_size=(224, 224)):\n",
        "    images = []\n",
        "    labels = []\n",
        "    class_names = sorted(os.listdir(directory))  # Sorted for consistent labeling\n",
        "    class_map = {class_name: idx for idx, class_name in enumerate(class_names)}  # Map class names to numbers\n",
        "\n",
        "    for label, class_name in enumerate(class_names):\n",
        "        class_path = os.path.join(directory, class_name)\n",
        "        if os.path.isdir(class_path):  # Ensure it's a directory\n",
        "            for img_name in os.listdir(class_path):\n",
        "                img_path = os.path.join(class_path, img_name)\n",
        "                img = tf.keras.preprocessing.image.load_img(img_path, target_size=(img_size[0], img_size[1]))\n",
        "                img = tf.keras.preprocessing.image.img_to_array(img)\n",
        "                images.append(img)\n",
        "                labels.append(class_map[class_name])\n",
        "\n",
        "    return np.array(images), np.array(labels), class_names"
      ],
      "metadata": {
        "id": "EYDmxzzb8gUj"
      },
      "execution_count": 3,
      "outputs": []
    },
    {
      "cell_type": "code",
      "source": [
        "# Set dataset path\n",
        "dataset_path = '/content/drive/MyDrive/Colab Notebooks/Cavity Dataset'"
      ],
      "metadata": {
        "id": "zQhXv3kP8kYU"
      },
      "execution_count": 4,
      "outputs": []
    },
    {
      "cell_type": "code",
      "source": [
        "# Load images and labels\n",
        "X, y, class_names = load_images_from_directory(dataset_path)"
      ],
      "metadata": {
        "id": "RCKg68uu8o2V"
      },
      "execution_count": 5,
      "outputs": []
    },
    {
      "cell_type": "markdown",
      "source": [
        "## **Images and Labels Splitting**"
      ],
      "metadata": {
        "id": "YuMbctgCXUG9"
      }
    },
    {
      "cell_type": "code",
      "source": [
        "# Split into train and test (80% training, 20% testing)\n",
        "X_train, X_test, y_train, y_test = train_test_split(X, y, test_size=0.2, random_state=42)"
      ],
      "metadata": {
        "id": "q56-VuwP8tAu"
      },
      "execution_count": 6,
      "outputs": []
    },
    {
      "cell_type": "code",
      "source": [
        "# Convert to NumPy arrays (for TensorFlow compatibility)\n",
        "y_train = np.array(y_train)\n",
        "y_test = np.array(y_test)"
      ],
      "metadata": {
        "id": "UkK3MyYK8w0Y"
      },
      "execution_count": 7,
      "outputs": []
    },
    {
      "cell_type": "code",
      "source": [
        "x_test = X_test / 255.0"
      ],
      "metadata": {
        "id": "frAZs8PRd64S"
      },
      "execution_count": 8,
      "outputs": []
    },
    {
      "cell_type": "markdown",
      "source": [
        "## **Images Preprocessing (Augmentation)**"
      ],
      "metadata": {
        "id": "etb8JTn6YHkg"
      }
    },
    {
      "cell_type": "code",
      "source": [
        "#Define Constants\n",
        "IMG_SIZE = 224  # Image size for MobileNetV2\n",
        "BATCH_SIZE = 32  # Batch size for training\n",
        "EPOCHS = 7  # Number of epochs before over fitting"
      ],
      "metadata": {
        "id": "bOu3pZelNPcf"
      },
      "execution_count": 9,
      "outputs": []
    },
    {
      "cell_type": "code",
      "source": [
        "# Data Preprocessing (Data Augmentation for Generalization)\n",
        "train_datagen = ImageDataGenerator(\n",
        "    rescale=1.0/255,\n",
        "    rotation_range=20,\n",
        "    width_shift_range=0.2,\n",
        "    height_shift_range=0.2,\n",
        "    shear_range=0.2,\n",
        "    zoom_range=0.2,\n",
        "    horizontal_flip=True,\n",
        "    validation_split=0.2  # 20% of training for validation\n",
        ")\n",
        "\n",
        "train_generator = train_datagen.flow(\n",
        "    X_train,\n",
        "    y_train,\n",
        "    batch_size=BATCH_SIZE,\n",
        "    subset='training'\n",
        ")\n",
        "\n",
        "val_generator = train_datagen.flow(\n",
        "    X_train,\n",
        "    y_train,\n",
        "    batch_size=BATCH_SIZE,\n",
        "    subset='validation'\n",
        ")"
      ],
      "metadata": {
        "id": "VxKOxScPNW_q"
      },
      "execution_count": 10,
      "outputs": []
    },
    {
      "cell_type": "code",
      "source": [
        "test_datagen = tf.keras.preprocessing.image.ImageDataGenerator(rescale=1./255) #rescal from [0:1] for beter learning\n",
        "test_generator = test_datagen.flow(X_test, y_test, batch_size=32)"
      ],
      "metadata": {
        "id": "XlRQ9PZ4bQBd"
      },
      "execution_count": 11,
      "outputs": []
    },
    {
      "cell_type": "code",
      "source": [
        "# 📌 Handle Class Imbalance (Compute Class Weights)\n",
        "labels = y_train  # Get class labels from y_train instead of train_generator.classes\n",
        "class_weights = compute_class_weight('balanced', classes=np.unique(labels), y=labels)\n",
        "class_weight_dict = {i: class_weights[i] for i in range(len(class_weights))}\n",
        "print(\"Class Weights:\", class_weight_dict)"
      ],
      "metadata": {
        "colab": {
          "base_uri": "https://localhost:8080/"
        },
        "id": "ltU-DTUKM1T8",
        "outputId": "97e2cf3e-b03b-48eb-b67a-c80ea87144df"
      },
      "execution_count": 12,
      "outputs": [
        {
          "output_type": "stream",
          "name": "stdout",
          "text": [
            "Class Weights: {0: np.float64(0.8671875), 1: np.float64(1.1808510638297873)}\n"
          ]
        }
      ]
    },
    {
      "cell_type": "markdown",
      "source": [
        "## **Prepare the CNN Model**"
      ],
      "metadata": {
        "id": "lN3rVMuMZjCh"
      }
    },
    {
      "cell_type": "code",
      "source": [
        "# 📌 Load Pre-trained MobileNetV2 Model (Transfer Learning)\n",
        "base_model = MobileNetV2(weights='imagenet', include_top=False, input_shape=(IMG_SIZE, IMG_SIZE, 3))\n",
        "base_model.trainable = False  # Freeze pre-trained layers"
      ],
      "metadata": {
        "colab": {
          "base_uri": "https://localhost:8080/"
        },
        "id": "eMbpVLLTOfpL",
        "outputId": "418a0e4a-3afa-4893-865a-2a833e20e90f"
      },
      "execution_count": 13,
      "outputs": [
        {
          "output_type": "stream",
          "name": "stdout",
          "text": [
            "Downloading data from https://storage.googleapis.com/tensorflow/keras-applications/mobilenet_v2/mobilenet_v2_weights_tf_dim_ordering_tf_kernels_1.0_224_no_top.h5\n",
            "\u001b[1m9406464/9406464\u001b[0m \u001b[32m━━━━━━━━━━━━━━━━━━━━\u001b[0m\u001b[37m\u001b[0m \u001b[1m0s\u001b[0m 0us/step\n"
          ]
        }
      ]
    },
    {
      "cell_type": "code",
      "source": [
        "# 📌 Add Custom Layers for Dental Classification\n",
        "x = base_model.output\n",
        "x = GlobalAveragePooling2D()(x) #lower overfitting risk than maxpooling\n",
        "x = Dense(128, activation='relu')(x)\n",
        "x = Dropout(0.5)(x) #to hinder overfitting\n",
        "output_layer = Dense(1, activation='sigmoid')(x)  # Binary output (0 or 1)-->cavity or healthy"
      ],
      "metadata": {
        "id": "upAHZZJDOiw0"
      },
      "execution_count": 14,
      "outputs": []
    },
    {
      "cell_type": "code",
      "source": [
        "# 📌 Compile the Model\n",
        "model = Model(inputs=base_model.input, outputs=output_layer)\n",
        "model.compile(optimizer='adam', loss='binary_crossentropy', metrics=['accuracy'])"
      ],
      "metadata": {
        "id": "eTlI4RGaOnjB"
      },
      "execution_count": 15,
      "outputs": []
    },
    {
      "cell_type": "markdown",
      "source": [
        "## **Fit the Model**"
      ],
      "metadata": {
        "id": "PZZzW9yMbDUR"
      }
    },
    {
      "cell_type": "code",
      "source": [
        "# 📌 Train the Model with Class Weights\n",
        "model.fit(\n",
        "    train_generator,\n",
        "    validation_data=val_generator,\n",
        "    epochs=EPOCHS,\n",
        "    class_weight=class_weight_dict\n",
        ")\n"
      ],
      "metadata": {
        "colab": {
          "base_uri": "https://localhost:8080/"
        },
        "id": "AVIcAcr5PnT2",
        "outputId": "4587131a-533a-48e9-e25f-479da240de7c"
      },
      "execution_count": 16,
      "outputs": [
        {
          "output_type": "stream",
          "name": "stderr",
          "text": [
            "/usr/local/lib/python3.11/dist-packages/keras/src/trainers/data_adapters/py_dataset_adapter.py:121: UserWarning: Your `PyDataset` class should call `super().__init__(**kwargs)` in its constructor. `**kwargs` can include `workers`, `use_multiprocessing`, `max_queue_size`. Do not pass these arguments to `fit()`, as they will be ignored.\n",
            "  self._warn_if_super_not_called()\n"
          ]
        },
        {
          "output_type": "stream",
          "name": "stdout",
          "text": [
            "Epoch 1/7\n",
            "\u001b[1m9/9\u001b[0m \u001b[32m━━━━━━━━━━━━━━━━━━━━\u001b[0m\u001b[37m\u001b[0m \u001b[1m29s\u001b[0m 3s/step - accuracy: 0.6248 - loss: 0.7009 - val_accuracy: 0.7727 - val_loss: 0.6045\n",
            "Epoch 2/7\n",
            "\u001b[1m9/9\u001b[0m \u001b[32m━━━━━━━━━━━━━━━━━━━━\u001b[0m\u001b[37m\u001b[0m \u001b[1m36s\u001b[0m 2s/step - accuracy: 0.8384 - loss: 0.3847 - val_accuracy: 0.8030 - val_loss: 0.4104\n",
            "Epoch 3/7\n",
            "\u001b[1m9/9\u001b[0m \u001b[32m━━━━━━━━━━━━━━━━━━━━\u001b[0m\u001b[37m\u001b[0m \u001b[1m20s\u001b[0m 2s/step - accuracy: 0.8606 - loss: 0.3620 - val_accuracy: 0.8333 - val_loss: 0.4346\n",
            "Epoch 4/7\n",
            "\u001b[1m9/9\u001b[0m \u001b[32m━━━━━━━━━━━━━━━━━━━━\u001b[0m\u001b[37m\u001b[0m \u001b[1m19s\u001b[0m 2s/step - accuracy: 0.8808 - loss: 0.2659 - val_accuracy: 0.8030 - val_loss: 0.3904\n",
            "Epoch 5/7\n",
            "\u001b[1m9/9\u001b[0m \u001b[32m━━━━━━━━━━━━━━━━━━━━\u001b[0m\u001b[37m\u001b[0m \u001b[1m22s\u001b[0m 2s/step - accuracy: 0.8409 - loss: 0.3849 - val_accuracy: 0.8636 - val_loss: 0.3277\n",
            "Epoch 6/7\n",
            "\u001b[1m9/9\u001b[0m \u001b[32m━━━━━━━━━━━━━━━━━━━━\u001b[0m\u001b[37m\u001b[0m \u001b[1m20s\u001b[0m 2s/step - accuracy: 0.8871 - loss: 0.2433 - val_accuracy: 0.8333 - val_loss: 0.3028\n",
            "Epoch 7/7\n",
            "\u001b[1m9/9\u001b[0m \u001b[32m━━━━━━━━━━━━━━━━━━━━\u001b[0m\u001b[37m\u001b[0m \u001b[1m18s\u001b[0m 2s/step - accuracy: 0.9144 - loss: 0.1951 - val_accuracy: 0.8030 - val_loss: 0.3618\n"
          ]
        },
        {
          "output_type": "execute_result",
          "data": {
            "text/plain": [
              "<keras.src.callbacks.history.History at 0x7ffa40a430d0>"
            ]
          },
          "metadata": {},
          "execution_count": 16
        }
      ]
    },
    {
      "cell_type": "markdown",
      "source": [
        "## **Model Evaluation**"
      ],
      "metadata": {
        "id": "_4IfQNxubKF8"
      }
    },
    {
      "cell_type": "code",
      "source": [
        "# 📌 Evaluate the Model\n",
        "loss, accuracy = model.evaluate(val_generator)\n",
        "print(f\"Validation Accuracy: {accuracy * 100:.2f}%\")\n"
      ],
      "metadata": {
        "colab": {
          "base_uri": "https://localhost:8080/"
        },
        "id": "2R-QnsbxNIkN",
        "outputId": "0230edae-2639-4f89-b9e9-36010cee95a5"
      },
      "execution_count": 17,
      "outputs": [
        {
          "output_type": "stream",
          "name": "stdout",
          "text": [
            "\u001b[1m3/3\u001b[0m \u001b[32m━━━━━━━━━━━━━━━━━━━━\u001b[0m\u001b[37m\u001b[0m \u001b[1m5s\u001b[0m 1s/step - accuracy: 0.8732 - loss: 0.3595\n",
            "Validation Accuracy: 86.36%\n"
          ]
        }
      ]
    },
    {
      "cell_type": "code",
      "source": [
        "# Predict using X_test\n",
        "y_pred_probs = model.predict(x_test)  # Get predicted probabilities\n",
        "\n",
        "# Convert probabilities to class labels (for binary classification)\n",
        "y_pred = (y_pred_probs > 0.5).astype(int).flatten()  # Convert to 0/1 labels\n",
        "\n",
        "# Handle y_test correctly\n",
        "if y_test.ndim > 1 and y_test.shape[1] == 2:  # If one-hot encoded\n",
        "    y_true = np.argmax(y_test, axis=1)\n",
        "else:  # Already in label format\n",
        "    y_true = y_test.flatten()\n",
        "\n",
        "# Define class labels manually (update based on your dataset)\n",
        "class_labels = ['cavity', 'healthy']  # Replace with actual class names\n",
        "\n",
        "# Print classification report\n",
        "print(classification_report(y_true, y_pred, target_names=class_labels))\n"
      ],
      "metadata": {
        "colab": {
          "base_uri": "https://localhost:8080/"
        },
        "id": "FEcVlHErc8y0",
        "outputId": "078d36f6-c508-4094-f1ed-59bfca01e021"
      },
      "execution_count": 18,
      "outputs": [
        {
          "output_type": "stream",
          "name": "stdout",
          "text": [
            "\u001b[1m3/3\u001b[0m \u001b[32m━━━━━━━━━━━━━━━━━━━━\u001b[0m\u001b[37m\u001b[0m \u001b[1m7s\u001b[0m 2s/step\n",
            "              precision    recall  f1-score   support\n",
            "\n",
            "      cavity       0.90      0.90      0.90        48\n",
            "     healthy       0.86      0.86      0.86        36\n",
            "\n",
            "    accuracy                           0.88        84\n",
            "   macro avg       0.88      0.88      0.88        84\n",
            "weighted avg       0.88      0.88      0.88        84\n",
            "\n"
          ]
        }
      ]
    },
    {
      "cell_type": "markdown",
      "source": [
        "## **Save the Model for Deployment**"
      ],
      "metadata": {
        "id": "nsMtpsTEbo6y"
      }
    },
    {
      "cell_type": "code",
      "source": [
        "# Save Model\n",
        "model.save(\"dentical_model.h5\")"
      ],
      "metadata": {
        "colab": {
          "base_uri": "https://localhost:8080/"
        },
        "id": "EAYhzKgqc9mM",
        "outputId": "6de14d9f-42c8-4964-c95e-137aff6a7f86"
      },
      "execution_count": 19,
      "outputs": [
        {
          "output_type": "stream",
          "name": "stderr",
          "text": [
            "WARNING:absl:You are saving your model as an HDF5 file via `model.save()` or `keras.saving.save_model(model)`. This file format is considered legacy. We recommend using instead the native Keras format, e.g. `model.save('my_model.keras')` or `keras.saving.save_model(model, 'my_model.keras')`. \n"
          ]
        }
      ]
    },
    {
      "cell_type": "code",
      "source": [],
      "metadata": {
        "id": "rTVfM8xHeeOk"
      },
      "execution_count": 19,
      "outputs": []
    }
  ]
}